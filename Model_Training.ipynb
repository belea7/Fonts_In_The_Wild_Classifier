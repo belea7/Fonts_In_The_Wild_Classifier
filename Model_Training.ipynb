{
  "cells": [
    {
      "cell_type": "markdown",
      "metadata": {
        "id": "fw0UNEEz1rZV"
      },
      "source": [
        "# Create and save dataset images\n"
      ]
    },
    {
      "cell_type": "markdown",
      "metadata": {
        "id": "M4BQwSxHI-kL"
      },
      "source": [
        "In order to save the overhead of processing all the images everytime I run the model - I decide to save the images in different directories (train, test, validaiton) where the data is also split into directories represinting their font."
      ]
    },
    {
      "cell_type": "markdown",
      "metadata": {
        "id": "WZN3GrRUGv92"
      },
      "source": [
        "First let's import all the necessary libraries:"
      ]
    },
    {
      "cell_type": "code",
      "execution_count": null,
      "metadata": {
        "id": "XDxLxHQArS7I",
        "colab": {
          "base_uri": "https://localhost:8080/"
        },
        "outputId": "2ab1c6c4-64e2-405d-93d6-3063c037ddd7"
      },
      "outputs": [
        {
          "output_type": "stream",
          "name": "stdout",
          "text": [
            "Drive already mounted at /content/drive; to attempt to forcibly remount, call drive.mount(\"/content/drive\", force_remount=True).\n"
          ]
        }
      ],
      "source": [
        "from google.colab import drive\n",
        "drive.mount('/content/drive')\n",
        "\n",
        "import cv2\n",
        "import h5py\n",
        "from tabulate import tabulate\n",
        "import numpy as np\n",
        "import matplotlib.pyplot as plt\n",
        "\n",
        "from numpy import asarray\n",
        "from keras.layers import Dense, Dropout, Flatten, Conv2D, MaxPooling2D, Rescaling\n",
        "from keras.models import Sequential\n",
        "from tensorflow.keras.applications import VGG16\n",
        "from tensorflow.keras.utils import image_dataset_from_directory"
      ]
    },
    {
      "cell_type": "markdown",
      "metadata": {
        "id": "6wgzPzYDHL2R"
      },
      "source": [
        "The dataset consists of images cotaining different letters with one the following 7 fonts. We should convert every font to a categorical value - an integer represnting it."
      ]
    },
    {
      "cell_type": "code",
      "execution_count": null,
      "metadata": {
        "id": "-3cqOrCIHy-U",
        "colab": {
          "base_uri": "https://localhost:8080/"
        },
        "outputId": "10113814-1100-4c06-fe1c-7bc14ae50fba"
      },
      "outputs": [
        {
          "output_type": "stream",
          "name": "stdout",
          "text": [
            "font           number\n",
            "-----------  --------\n",
            "Raleway             0\n",
            "Open Sans           1\n",
            "Roboto              2\n",
            "Ubuntu Mono         3\n",
            "Michroma            4\n",
            "Alex Brush          5\n",
            "Russo One           6\n"
          ]
        }
      ],
      "source": [
        "classes = [b'Raleway', b'Open Sans', b'Roboto', b'Ubuntu Mono', b'Michroma', b'Alex Brush', b'Russo One']\n",
        "\n",
        "def convert_font_to_int(font):\n",
        "  return classes.index(font)\n",
        "\n",
        "# Show mapping\n",
        "table = [[font, i] for i, font in enumerate(classes)]\n",
        "print(tabulate(table, headers=[\"font\", \"number\"]))"
      ]
    },
    {
      "cell_type": "markdown",
      "metadata": {
        "id": "ZdnEiVWWH2bp"
      },
      "source": [
        "I will create a convolutional neural network which classifies for every letter in the image to one of the fonts. So after reading every image I will crop the letter (the coordinates are given in the dataset).\n",
        "The following method saves the every cropped image:"
      ]
    },
    {
      "cell_type": "code",
      "execution_count": null,
      "metadata": {
        "id": "WJe-GvXlIlRr"
      },
      "outputs": [],
      "source": [
        "def crop_char(coordinates, image, folder, file_name, font):\n",
        "  \"\"\" \n",
        "  Cropps character in an image \n",
        "  \"\"\"\n",
        "  # Crop image\n",
        "  SIZE = 18\n",
        "  pt_A, pt_D, pt_C, pt_B = coordinates.tolist()\n",
        "  input_pts = np.float32([pt_A, pt_B, pt_C, pt_D])\n",
        "  output_pts = np.float32([[0, 0], [0,SIZE - 1], [SIZE - 1, SIZE - 1], [SIZE - 1, 0]])\n",
        "  M = cv2.getPerspectiveTransform(input_pts,output_pts)\n",
        "  warped = cv2.warpPerspective(image,M,(SIZE, SIZE),flags=cv2.INTER_LINEAR)\n",
        "\n",
        "  # Remove noise\n",
        "  no_noise = cv2.fastNlMeansDenoisingColored(warped)\n",
        "\n",
        "  # Save image\n",
        "  pil_image = Image.fromarray(no_noise, 'RGB')\n",
        "  pil_image.save(f\"/content/drive/MyDrive/Project/{folder}/{font}/{file_name}.png\")"
      ]
    },
    {
      "cell_type": "markdown",
      "metadata": {
        "id": "Ph1bnJj-IreW"
      },
      "source": [
        "The following method extracts the images of all the letters in the image:"
      ]
    },
    {
      "cell_type": "code",
      "execution_count": null,
      "metadata": {
        "id": "47SPrGFuI0Xx"
      },
      "outputs": [],
      "source": [
        "def extract_chars(image_name, folder):\n",
        "  \"\"\" \n",
        "  Extracts char images from image \n",
        "  \"\"\"\n",
        "  charBB = np.asarray(db['data'][image_name].attrs['charBB']).transpose().astype(int)\n",
        "  fonts = np.asarray(db['data'][image_name].attrs['font'])\n",
        "\n",
        "  letters = []\n",
        "  for word in db['data'][image_name].attrs['txt']:\n",
        "    letters += list(word.decode('UTF-8'))\n",
        "\n",
        "  image = db['data'][image_name][:]\n",
        "  char_images = []\n",
        "  for char, letter, font in zip(charBB, letters, fonts):\n",
        "    try:\n",
        "      char_images.append(crop_char(char, \n",
        "                        np.asarray(Image.fromarray(image).convert('RGB')),\n",
        "                        folder, f\"{image_name}_{letter}\",\n",
        "                        convert_font_to_int(font)))\n",
        "    except Exception as e:\n",
        "      print(f\"skipped: {e}\")\n",
        "  return char_images"
      ]
    },
    {
      "cell_type": "markdown",
      "metadata": {
        "id": "6TEcIV0dJWpf"
      },
      "source": [
        "The dataset is stored in an h5 file which containt the images, the coordinates of the chars, the letters, the actual fonts and the text of each word. The following method splits all the images into 3 datasets: training set (80%), validation set (10%), and a testing set (10%):"
      ]
    },
    {
      "cell_type": "code",
      "execution_count": null,
      "metadata": {
        "id": "mM3D1u8oKYDe",
        "colab": {
          "base_uri": "https://localhost:8080/"
        },
        "outputId": "0b58dfd9-7e75-4ac0-a094-feddb88a81c3"
      },
      "outputs": [
        {
          "output_type": "stream",
          "name": "stdout",
          "text": [
            "The dataset is split into a training set (778), validation set (98), and a test set (97)\n"
          ]
        }
      ],
      "source": [
        "db = h5py.File(\"/content/drive/MyDrive/Project/SynthText.h5\", 'r')\n",
        "image_names = list(db['data'].keys())\n",
        "train_set, test_set, valid_set = np.split(image_names, [int(.8 * len(image_names)), int(.9 * len(image_names))])\n",
        "print(f\"The dataset is split into a training set ({len(train_set)}), validation set ({len(valid_set)}), and a test set ({len(test_set)})\")"
      ]
    },
    {
      "cell_type": "markdown",
      "metadata": {
        "id": "0k5nHOHkKZga"
      },
      "source": [
        "For every image the sub-images of the letters dispayed in it are saved in an appropriate location:"
      ]
    },
    {
      "cell_type": "code",
      "execution_count": null,
      "metadata": {
        "id": "80s8Ftde6OWR"
      },
      "outputs": [],
      "source": [
        "# Save training set\n",
        "for image_name in train_set:\n",
        "  extract_chars(image_name, \"enhanced/train\")\n",
        "\n",
        "# Save test set\n",
        "for image_name in test_set:\n",
        "  extract_chars(image_name, \"enhanced/test\")\n",
        "\n",
        "# Save validation set\n",
        "for image_name in valid_set:\n",
        "  extract_chars(image_name, \"enhanced/validation\")"
      ]
    },
    {
      "cell_type": "markdown",
      "metadata": {
        "id": "6YuePGrqKzLD"
      },
      "source": [
        "# Create and train a CNN"
      ]
    },
    {
      "cell_type": "markdown",
      "metadata": {
        "id": "1Bjg0Z6bxF-P"
      },
      "source": [
        "Before defining the model, let's first extract the images for the train, test, and validation sets:"
      ]
    },
    {
      "cell_type": "code",
      "execution_count": null,
      "metadata": {
        "id": "sZ8BsWHlxNiV",
        "colab": {
          "base_uri": "https://localhost:8080/"
        },
        "outputId": "83edaacf-69d9-420c-9b29-63cf288b6e07"
      },
      "outputs": [
        {
          "output_type": "stream",
          "name": "stdout",
          "text": [
            "Found 18996 files belonging to 7 classes.\n",
            "Found 2263 files belonging to 7 classes.\n",
            "Found 2723 files belonging to 7 classes.\n",
            "['0', '1', '2', '3', '4', '5', '6']\n"
          ]
        }
      ],
      "source": [
        "SIZE = (18, 18)\n",
        "BATCH_SIZE = 32\n",
        "\n",
        "train_set = image_dataset_from_directory(\n",
        "    \"/content/drive/MyDrive/Project/enhanced/train\",\n",
        "    image_size=SIZE,\n",
        "    batch_size=BATCH_SIZE,\n",
        "    label_mode='categorical',\n",
        "    shuffle=True\n",
        ")\n",
        "\n",
        "valid_set = image_dataset_from_directory(\n",
        "    \"/content/drive/MyDrive/Project/enhanced/validation\",\n",
        "    image_size=SIZE,\n",
        "    batch_size=BATCH_SIZE,\n",
        "    label_mode='categorical',\n",
        "    shuffle=True\n",
        ")\n",
        "\n",
        "test_set = image_dataset_from_directory(\n",
        "    \"/content/drive/MyDrive/Project/enhanced/test\",\n",
        "    image_size=SIZE,\n",
        "    batch_size=BATCH_SIZE,\n",
        "    label_mode='categorical',\n",
        "    shuffle=True\n",
        ")"
      ]
    },
    {
      "cell_type": "markdown",
      "metadata": {
        "id": "1kdJFOxCrdVN"
      },
      "source": [
        "Let's create the model - a convolutional neural network for processing the char images:"
      ]
    },
    {
      "cell_type": "code",
      "execution_count": null,
      "metadata": {
        "id": "1SoB9TQ0rgm6"
      },
      "outputs": [],
      "source": [
        "model = Sequential([\n",
        "        Rescaling(1.0 / 255, input_shape=(18, 18, 3)),\n",
        "\n",
        "        Conv2D(32, kernel_size=3, activation=\"relu\", padding='same', strides=1),\n",
        "        MaxPooling2D(pool_size=(2,2), strides=2, padding='same'),\n",
        "        Dropout(0.2),\n",
        "     \n",
        "        Conv2D(64, kernel_size=3, activation=\"relu\", padding='same', strides=1),\n",
        "        MaxPooling2D(pool_size=(2,2), strides=2, padding='same'),\n",
        "        Dropout(0.2),\n",
        "\n",
        "        Conv2D(128, kernel_size=3, activation=\"relu\", padding='same', strides=1),\n",
        "        MaxPooling2D(pool_size=(2,2), strides=2, padding='same'),\n",
        "        Dropout(0.2),\n",
        "     \n",
        "        Flatten(),\n",
        "        Dense(100, activation='relu'),\n",
        "        Dense(7, activation=\"softmax\"),\n",
        "    ])\n",
        "model.compile(loss=\"categorical_crossentropy\", optimizer=\"adam\", metrics=[\"accuracy\"])\n",
        "model.summary()"
      ]
    },
    {
      "cell_type": "markdown",
      "metadata": {
        "id": "V_To1XqMLTQ3"
      },
      "source": [
        "Now, let's train the model on the train set, using the validaiton set to see the generalization of the model:"
      ]
    },
    {
      "cell_type": "code",
      "execution_count": null,
      "metadata": {
        "id": "6ryTiDUfLdqn",
        "colab": {
          "base_uri": "https://localhost:8080/",
          "height": 1000
        },
        "outputId": "9a400d85-6f92-4115-be35-d199ffae56ae"
      },
      "outputs": [
        {
          "output_type": "stream",
          "name": "stdout",
          "text": [
            "Epoch 1/30\n",
            "594/594 [==============================] - 15s 24ms/step - loss: 1.7919 - accuracy: 0.2535 - val_loss: 1.4364 - val_accuracy: 0.4224\n",
            "Epoch 2/30\n",
            "594/594 [==============================] - 13s 22ms/step - loss: 1.2987 - accuracy: 0.4910 - val_loss: 1.2239 - val_accuracy: 0.5373\n",
            "Epoch 3/30\n",
            "594/594 [==============================] - 12s 20ms/step - loss: 1.1470 - accuracy: 0.5569 - val_loss: 1.1466 - val_accuracy: 0.5762\n",
            "Epoch 4/30\n",
            "594/594 [==============================] - 14s 24ms/step - loss: 1.0511 - accuracy: 0.6019 - val_loss: 1.0835 - val_accuracy: 0.6014\n",
            "Epoch 5/30\n",
            "594/594 [==============================] - 13s 22ms/step - loss: 0.9844 - accuracy: 0.6257 - val_loss: 1.0303 - val_accuracy: 0.6116\n",
            "Epoch 6/30\n",
            "594/594 [==============================] - 13s 22ms/step - loss: 0.9290 - accuracy: 0.6468 - val_loss: 0.9999 - val_accuracy: 0.6253\n",
            "Epoch 7/30\n",
            "594/594 [==============================] - 13s 22ms/step - loss: 0.8888 - accuracy: 0.6612 - val_loss: 0.9814 - val_accuracy: 0.6390\n",
            "Epoch 8/30\n",
            "594/594 [==============================] - 14s 23ms/step - loss: 0.8452 - accuracy: 0.6797 - val_loss: 1.0009 - val_accuracy: 0.6262\n",
            "Epoch 9/30\n",
            "594/594 [==============================] - 12s 20ms/step - loss: 0.8156 - accuracy: 0.6911 - val_loss: 0.9657 - val_accuracy: 0.6465\n",
            "Epoch 10/30\n",
            "594/594 [==============================] - 13s 21ms/step - loss: 0.7877 - accuracy: 0.6981 - val_loss: 0.9699 - val_accuracy: 0.6248\n",
            "Epoch 11/30\n",
            "594/594 [==============================] - 12s 21ms/step - loss: 0.7675 - accuracy: 0.7084 - val_loss: 0.9479 - val_accuracy: 0.6456\n",
            "Epoch 12/30\n",
            "594/594 [==============================] - 12s 20ms/step - loss: 0.7506 - accuracy: 0.7126 - val_loss: 0.9639 - val_accuracy: 0.6571\n",
            "Epoch 13/30\n",
            "594/594 [==============================] - 12s 20ms/step - loss: 0.7325 - accuracy: 0.7191 - val_loss: 0.9452 - val_accuracy: 0.6602\n",
            "Epoch 14/30\n",
            "594/594 [==============================] - 13s 21ms/step - loss: 0.7051 - accuracy: 0.7309 - val_loss: 0.9586 - val_accuracy: 0.6580\n",
            "Epoch 15/30\n",
            "594/594 [==============================] - 12s 21ms/step - loss: 0.6889 - accuracy: 0.7372 - val_loss: 0.9628 - val_accuracy: 0.6544\n",
            "Epoch 16/30\n",
            "594/594 [==============================] - 13s 21ms/step - loss: 0.6787 - accuracy: 0.7419 - val_loss: 0.9726 - val_accuracy: 0.6562\n",
            "Epoch 17/30\n",
            "594/594 [==============================] - 12s 20ms/step - loss: 0.6712 - accuracy: 0.7465 - val_loss: 0.9731 - val_accuracy: 0.6483\n",
            "Epoch 18/30\n",
            "594/594 [==============================] - 12s 20ms/step - loss: 0.6531 - accuracy: 0.7522 - val_loss: 0.9545 - val_accuracy: 0.6584\n",
            "Epoch 19/30\n",
            "594/594 [==============================] - 12s 20ms/step - loss: 0.6373 - accuracy: 0.7566 - val_loss: 0.9525 - val_accuracy: 0.6615\n",
            "Epoch 20/30\n",
            "594/594 [==============================] - 11s 19ms/step - loss: 0.6259 - accuracy: 0.7600 - val_loss: 0.9907 - val_accuracy: 0.6597\n",
            "Epoch 21/30\n",
            "594/594 [==============================] - 11s 19ms/step - loss: 0.6209 - accuracy: 0.7631 - val_loss: 0.9930 - val_accuracy: 0.6531\n",
            "Epoch 22/30\n",
            "594/594 [==============================] - 11s 19ms/step - loss: 0.6065 - accuracy: 0.7696 - val_loss: 0.9471 - val_accuracy: 0.6571\n",
            "Epoch 23/30\n",
            "594/594 [==============================] - 11s 18ms/step - loss: 0.5947 - accuracy: 0.7729 - val_loss: 0.9778 - val_accuracy: 0.6597\n",
            "Epoch 24/30\n",
            "594/594 [==============================] - 11s 19ms/step - loss: 0.5918 - accuracy: 0.7751 - val_loss: 1.0106 - val_accuracy: 0.6558\n",
            "Epoch 25/30\n",
            "594/594 [==============================] - 11s 19ms/step - loss: 0.5829 - accuracy: 0.7781 - val_loss: 0.9935 - val_accuracy: 0.6615\n",
            "Epoch 26/30\n",
            "594/594 [==============================] - 12s 19ms/step - loss: 0.5693 - accuracy: 0.7822 - val_loss: 0.9583 - val_accuracy: 0.6690\n",
            "Epoch 27/30\n",
            "594/594 [==============================] - 11s 19ms/step - loss: 0.5518 - accuracy: 0.7888 - val_loss: 1.0053 - val_accuracy: 0.6611\n",
            "Epoch 28/30\n",
            "594/594 [==============================] - 11s 19ms/step - loss: 0.5498 - accuracy: 0.7892 - val_loss: 0.9676 - val_accuracy: 0.6681\n",
            "Epoch 29/30\n",
            "594/594 [==============================] - 11s 19ms/step - loss: 0.5412 - accuracy: 0.7931 - val_loss: 1.0208 - val_accuracy: 0.6668\n",
            "Epoch 30/30\n",
            "594/594 [==============================] - 12s 20ms/step - loss: 0.5406 - accuracy: 0.7944 - val_loss: 1.0320 - val_accuracy: 0.6686\n"
          ]
        },
        {
          "output_type": "execute_result",
          "data": {
            "text/plain": [
              "<matplotlib.axes._subplots.AxesSubplot at 0x7fd2dfedf550>"
            ]
          },
          "metadata": {},
          "execution_count": 1217
        },
        {
          "output_type": "display_data",
          "data": {
            "image/png": "[encoded data removed]",
            "text/plain": [
              "<Figure size 432x288 with 1 Axes>"
            ]
          },
          "metadata": {
            "needs_background": "light"
          }
        },
        {
          "output_type": "display_data",
          "data": {
            "image/png": "[encoded data removed]",
            "text/plain": [
              "<Figure size 432x288 with 1 Axes>"
            ]
          },
          "metadata": {
            "needs_background": "light"
          }
        }
      ],
      "source": [
        "# Train\n",
        "history = model.fit(\n",
        "    train_set,\n",
        "    epochs=30, \n",
        "    verbose=1,\n",
        "    batch_size=BATCH_SIZE,\n",
        "    validation_data=valid_set,\n",
        "    use_multiprocessing=True,\n",
        ")\n",
        "history_df = pd.DataFrame(history.history)\n",
        "history_df.loc[:, ['loss', 'val_loss']].plot()\n",
        "history_df.loc[:, ['accuracy', 'val_accuracy']].plot()"
      ]
    },
    {
      "cell_type": "markdown",
      "metadata": {
        "id": "NkVgslkBLemV"
      },
      "source": [
        "Finally, let's evaluate the model on the testing set and save its weights"
      ]
    },
    {
      "cell_type": "code",
      "execution_count": null,
      "metadata": {
        "id": "mfw-4mNYrrBG",
        "colab": {
          "base_uri": "https://localhost:8080/"
        },
        "outputId": "e0e06dd1-71ac-455a-ec50-6d84ef0eade7"
      },
      "outputs": [
        {
          "output_type": "stream",
          "name": "stdout",
          "text": [
            "86/86 [==============================] - 1s 12ms/step - loss: 0.7465 - accuracy: 0.7319\n",
            "['0', '1', '2', '3', '4', '5', '6']\n",
            "Model: \"sequential_38\"\n",
            "_________________________________________________________________\n",
            " Layer (type)                Output Shape              Param #   \n",
            "=================================================================\n",
            " rescaling_32 (Rescaling)    (None, 18, 18, 3)         0         \n",
            "                                                                 \n",
            " conv2d_126 (Conv2D)         (None, 18, 18, 32)        896       \n",
            "                                                                 \n",
            " max_pooling2d_122 (MaxPooli  (None, 9, 9, 32)         0         \n",
            " ng2D)                                                           \n",
            "                                                                 \n",
            " dropout_136 (Dropout)       (None, 9, 9, 32)          0         \n",
            "                                                                 \n",
            " conv2d_127 (Conv2D)         (None, 9, 9, 64)          18496     \n",
            "                                                                 \n",
            " max_pooling2d_123 (MaxPooli  (None, 5, 5, 64)         0         \n",
            " ng2D)                                                           \n",
            "                                                                 \n",
            " dropout_137 (Dropout)       (None, 5, 5, 64)          0         \n",
            "                                                                 \n",
            " conv2d_128 (Conv2D)         (None, 5, 5, 128)         73856     \n",
            "                                                                 \n",
            " max_pooling2d_124 (MaxPooli  (None, 3, 3, 128)        0         \n",
            " ng2D)                                                           \n",
            "                                                                 \n",
            " dropout_138 (Dropout)       (None, 3, 3, 128)         0         \n",
            "                                                                 \n",
            " flatten_39 (Flatten)        (None, 1152)              0         \n",
            "                                                                 \n",
            " dense_83 (Dense)            (None, 100)               115300    \n",
            "                                                                 \n",
            " dense_84 (Dense)            (None, 7)                 707       \n",
            "                                                                 \n",
            "=================================================================\n",
            "Total params: 209,255\n",
            "Trainable params: 209,255\n",
            "Non-trainable params: 0\n",
            "_________________________________________________________________\n"
          ]
        }
      ],
      "source": [
        "# Evaluate model\n",
        "model.evaluate(test_set, verbose=1)\n",
        "print(test_set.class_names)\n",
        "\n",
        "# Save the model\n",
        "model.save_weights(\"/content/drive/MyDrive/Project/model_weights.ckpt\")"
      ]
    }
  ],
  "metadata": {
    "accelerator": "TPU",
    "colab": {
      "collapsed_sections": [],
      "machine_shape": "hm",
      "name": "Model Training.ipynb",
      "provenance": []
    },
    "kernelspec": {
      "display_name": "Python 3",
      "name": "python3"
    },
    "language_info": {
      "name": "python"
    }
  },
  "nbformat": 4,
  "nbformat_minor": 0
}